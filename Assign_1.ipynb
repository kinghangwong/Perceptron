{
 "cells": [
  {
   "cell_type": "markdown",
   "id": "f93d24f5-25a9-4b6d-8b08-8a461e33a7ce",
   "metadata": {},
   "source": [
    "QUESTIONS:\n",
    "\n",
    "1. Why doesn't diabetes_scale work?\n",
    "2. Should I have used diabetes_scale?\n",
    "3. What hyperparameters are there for my model?\n",
    "4. Train-test-split? Validation?\n",
    "5. Should I move onto MLP?\n",
    "6. How to plot good looking graphs?\n",
    "\n",
    "\n",
    "Random ideas\n",
    "\n",
    "* Explain perceptron from a different framework?\n",
    "* Hardware required\n",
    "* Combine methods (pipelining, preprocess -> SLP?. PCA -> SLP?)\n",
    "* Features selection (variable importance weighing)\n",
    "* SEPARATELY do the train-test-split for accuracy testing, and also FIT ALL DATA for showing perceptron cannot learn XOR\n",
    "* cross-validation?\n",
    "* looking at sklearn parameters\n",
    "* * early stopping\n",
    "* * keep best iter\n",
    "* * L1/L2\n",
    "* * initialized weights\n",
    "* * regularization\n",
    "---"
   ]
  },
  {
   "cell_type": "markdown",
   "id": "e34ebcc6-631a-4c9f-ac28-040be4848e16",
   "metadata": {},
   "source": [
    "Preliminary planning\n",
    "* Abstract\n",
    "* Problem - go through the diabetes data set problem.\n",
    "* Related work (older + newer)\n",
    "* History, algorithm, inability for XOR (is it relevant?), loss function\n",
    "* Experiment\n",
    "* Compare with other methods (tree-based, SVM, logistic regression, etc. everything relevant mentioned so far in lecture) using ablative study\n",
    "* Conclusion\n",
    "---"
   ]
  },
  {
   "cell_type": "markdown",
   "id": "b9b24c38-ba00-4272-aa0c-a7974e41c614",
   "metadata": {},
   "source": [
    "1. Introduction  \n",
    "Nature of task (no need divulge into too much detail)\n",
    "1.1 Related Work (History, newer developments)\n",
    "1.2 Newer ways to use it (generalized perceptron learning etc.)\n",
    "2. Methodology  \n",
    "2.1 Pipeline, algorithm, diagram  \n",
    "2.2 Loss function\n",
    "2.3 Inference\n",
    "2.4 Limitations\n",
    "3. Comparison to other classification algorithms  \n",
    "ablative study  \n",
    "Improvements to the perceptron  \n",
    "tree-based, SVM, logistic regression, etc. everything relevant mentioned so far in lecture\n",
    "4. Conclusion\n",
    "5. References"
   ]
  },
  {
   "cell_type": "markdown",
   "id": "a9339261-7692-4438-a5c4-cb9606677e12",
   "metadata": {},
   "source": [
    "#### Preprocessing"
   ]
  },
  {
   "cell_type": "code",
   "execution_count": 1,
   "id": "77088976-48f4-44e8-894a-43ffe00458f9",
   "metadata": {
    "tags": []
   },
   "outputs": [
    {
     "name": "stdout",
     "output_type": "stream",
     "text": [
      "Outcome                     0\n",
      "Pregnancies                 0\n",
      "Glucose                     0\n",
      "BloodPressure               0\n",
      "SkinThickness               0\n",
      "Insulin                     0\n",
      "BMI                         0\n",
      "DiabetesPedigreeFunction    0\n",
      "Age                         9\n",
      "dtype: int64\n",
      "Outcome                     0\n",
      "Pregnancies                 0\n",
      "Glucose                     0\n",
      "BloodPressure               0\n",
      "SkinThickness               0\n",
      "Insulin                     0\n",
      "BMI                         0\n",
      "DiabetesPedigreeFunction    0\n",
      "Age                         9\n",
      "dtype: int64\n"
     ]
    }
   ],
   "source": [
    "# import dependencies\n",
    "import numpy as np\n",
    "import pandas as pd\n",
    "\n",
    "file_path= 'diabetes_scale.txt'\n",
    "\n",
    "# Read the data from the file\n",
    "with open(file_path, 'r') as file:\n",
    "    data = file.readlines()\n",
    "\n",
    "# Create a DataFrame\n",
    "col_names = ['Pregnancies', 'Glucose', 'BloodPressure', 'SkinThickness', 'Insulin',\n",
    "       'BMI', 'DiabetesPedigreeFunction', 'Age']\n",
    "df = pd.DataFrame([line.strip().split() for line in data], columns=[\"Outcome\"] + col_names)\n",
    "\n",
    "# Split each feature column into two columns: Feature ID and Feature Value\n",
    "for col in col_names:\n",
    "    feature_data = df[col].str.split(\":\", expand=True)\n",
    "    df[col] = feature_data[1].astype(float)\n",
    "\n",
    "df[\"Outcome\"] = df[\"Outcome\"].astype(int)\n",
    "print(df.isnull().sum())\n",
    "print(df.isna().sum())\n",
    "\n",
    "df = df.dropna()\n",
    "\n",
    "# Extract features and groundtruth columns\n",
    "X = df.iloc[:,1:].values\n",
    "y = df.iloc[:,0].values"
   ]
  },
  {
   "cell_type": "code",
   "execution_count": 2,
   "id": "2d0ac6b6-209d-4e57-8e6a-5d995859bd89",
   "metadata": {
    "tags": []
   },
   "outputs": [
    {
     "data": {
      "text/html": [
       "<div>\n",
       "<style scoped>\n",
       "    .dataframe tbody tr th:only-of-type {\n",
       "        vertical-align: middle;\n",
       "    }\n",
       "\n",
       "    .dataframe tbody tr th {\n",
       "        vertical-align: top;\n",
       "    }\n",
       "\n",
       "    .dataframe thead th {\n",
       "        text-align: right;\n",
       "    }\n",
       "</style>\n",
       "<table border=\"1\" class=\"dataframe\">\n",
       "  <thead>\n",
       "    <tr style=\"text-align: right;\">\n",
       "      <th></th>\n",
       "      <th>Outcome</th>\n",
       "      <th>Pregnancies</th>\n",
       "      <th>Glucose</th>\n",
       "      <th>BloodPressure</th>\n",
       "      <th>SkinThickness</th>\n",
       "      <th>Insulin</th>\n",
       "      <th>BMI</th>\n",
       "      <th>DiabetesPedigreeFunction</th>\n",
       "      <th>Age</th>\n",
       "    </tr>\n",
       "  </thead>\n",
       "  <tbody>\n",
       "    <tr>\n",
       "      <th>0</th>\n",
       "      <td>-1</td>\n",
       "      <td>-0.294118</td>\n",
       "      <td>0.487437</td>\n",
       "      <td>0.180328</td>\n",
       "      <td>-0.292929</td>\n",
       "      <td>-1.0</td>\n",
       "      <td>0.001490</td>\n",
       "      <td>-0.531170</td>\n",
       "      <td>-0.033333</td>\n",
       "    </tr>\n",
       "    <tr>\n",
       "      <th>1</th>\n",
       "      <td>1</td>\n",
       "      <td>-0.882353</td>\n",
       "      <td>-0.145729</td>\n",
       "      <td>0.081967</td>\n",
       "      <td>-0.414141</td>\n",
       "      <td>-1.0</td>\n",
       "      <td>-0.207153</td>\n",
       "      <td>-0.766866</td>\n",
       "      <td>-0.666667</td>\n",
       "    </tr>\n",
       "    <tr>\n",
       "      <th>2</th>\n",
       "      <td>-1</td>\n",
       "      <td>-0.058824</td>\n",
       "      <td>0.839196</td>\n",
       "      <td>0.049180</td>\n",
       "      <td>-1.000000</td>\n",
       "      <td>-1.0</td>\n",
       "      <td>-0.305514</td>\n",
       "      <td>-0.492741</td>\n",
       "      <td>-0.633333</td>\n",
       "    </tr>\n",
       "  </tbody>\n",
       "</table>\n",
       "</div>"
      ],
      "text/plain": [
       "   Outcome  Pregnancies   Glucose  BloodPressure  SkinThickness  Insulin  \\\n",
       "0       -1    -0.294118  0.487437       0.180328      -0.292929     -1.0   \n",
       "1        1    -0.882353 -0.145729       0.081967      -0.414141     -1.0   \n",
       "2       -1    -0.058824  0.839196       0.049180      -1.000000     -1.0   \n",
       "\n",
       "        BMI  DiabetesPedigreeFunction       Age  \n",
       "0  0.001490                 -0.531170 -0.033333  \n",
       "1 -0.207153                 -0.766866 -0.666667  \n",
       "2 -0.305514                 -0.492741 -0.633333  "
      ]
     },
     "execution_count": 2,
     "metadata": {},
     "output_type": "execute_result"
    }
   ],
   "source": [
    "df[:3]"
   ]
  },
  {
   "cell_type": "markdown",
   "id": "9a593b5f-5a20-47d8-a5e2-95a1c0920cd4",
   "metadata": {},
   "source": [
    "### EDA"
   ]
  },
  {
   "cell_type": "code",
   "execution_count": 3,
   "id": "60b09047-0d12-4e6a-a135-04630640b88b",
   "metadata": {
    "tags": []
   },
   "outputs": [
    {
     "name": "stdout",
     "output_type": "stream",
     "text": [
      "Outcome                     0\n",
      "Pregnancies                 0\n",
      "Glucose                     0\n",
      "BloodPressure               0\n",
      "SkinThickness               0\n",
      "Insulin                     0\n",
      "BMI                         0\n",
      "DiabetesPedigreeFunction    0\n",
      "Age                         0\n",
      "dtype: int64\n",
      "Outcome                     0\n",
      "Pregnancies                 0\n",
      "Glucose                     0\n",
      "BloodPressure               0\n",
      "SkinThickness               0\n",
      "Insulin                     0\n",
      "BMI                         0\n",
      "DiabetesPedigreeFunction    0\n",
      "Age                         0\n",
      "dtype: int64\n"
     ]
    }
   ],
   "source": [
    "print(df.isnull().sum())\n",
    "print(df.isna().sum())"
   ]
  },
  {
   "cell_type": "code",
   "execution_count": 4,
   "id": "076ac6f3-da27-4ea4-8e16-41f689cc1029",
   "metadata": {
    "tags": []
   },
   "outputs": [
    {
     "data": {
      "text/html": [
       "<div>\n",
       "<style scoped>\n",
       "    .dataframe tbody tr th:only-of-type {\n",
       "        vertical-align: middle;\n",
       "    }\n",
       "\n",
       "    .dataframe tbody tr th {\n",
       "        vertical-align: top;\n",
       "    }\n",
       "\n",
       "    .dataframe thead th {\n",
       "        text-align: right;\n",
       "    }\n",
       "</style>\n",
       "<table border=\"1\" class=\"dataframe\">\n",
       "  <thead>\n",
       "    <tr style=\"text-align: right;\">\n",
       "      <th></th>\n",
       "      <th>Outcome</th>\n",
       "      <th>Pregnancies</th>\n",
       "      <th>Glucose</th>\n",
       "      <th>BloodPressure</th>\n",
       "      <th>SkinThickness</th>\n",
       "      <th>Insulin</th>\n",
       "      <th>BMI</th>\n",
       "      <th>DiabetesPedigreeFunction</th>\n",
       "      <th>Age</th>\n",
       "    </tr>\n",
       "  </thead>\n",
       "  <tbody>\n",
       "    <tr>\n",
       "      <th>count</th>\n",
       "      <td>759.000000</td>\n",
       "      <td>759.000000</td>\n",
       "      <td>759.000000</td>\n",
       "      <td>759.000000</td>\n",
       "      <td>759.000000</td>\n",
       "      <td>759.000000</td>\n",
       "      <td>759.000000</td>\n",
       "      <td>759.000000</td>\n",
       "      <td>759.000000</td>\n",
       "    </tr>\n",
       "    <tr>\n",
       "      <th>mean</th>\n",
       "      <td>0.306983</td>\n",
       "      <td>-0.553902</td>\n",
       "      <td>0.211976</td>\n",
       "      <td>0.130392</td>\n",
       "      <td>-0.584860</td>\n",
       "      <td>-0.812335</td>\n",
       "      <td>-0.046738</td>\n",
       "      <td>-0.664571</td>\n",
       "      <td>-0.599166</td>\n",
       "    </tr>\n",
       "    <tr>\n",
       "      <th>std</th>\n",
       "      <td>0.952343</td>\n",
       "      <td>0.393479</td>\n",
       "      <td>0.321448</td>\n",
       "      <td>0.317587</td>\n",
       "      <td>0.322290</td>\n",
       "      <td>0.273006</td>\n",
       "      <td>0.235680</td>\n",
       "      <td>0.282291</td>\n",
       "      <td>0.388652</td>\n",
       "    </tr>\n",
       "    <tr>\n",
       "      <th>min</th>\n",
       "      <td>-1.000000</td>\n",
       "      <td>-1.000000</td>\n",
       "      <td>-1.000000</td>\n",
       "      <td>-1.000000</td>\n",
       "      <td>-1.000000</td>\n",
       "      <td>-1.000000</td>\n",
       "      <td>-1.000000</td>\n",
       "      <td>-1.000000</td>\n",
       "      <td>-1.000000</td>\n",
       "    </tr>\n",
       "    <tr>\n",
       "      <th>25%</th>\n",
       "      <td>-1.000000</td>\n",
       "      <td>-0.882353</td>\n",
       "      <td>-0.005025</td>\n",
       "      <td>0.016393</td>\n",
       "      <td>-1.000000</td>\n",
       "      <td>-1.000000</td>\n",
       "      <td>-0.186289</td>\n",
       "      <td>-0.858668</td>\n",
       "      <td>-0.900000</td>\n",
       "    </tr>\n",
       "    <tr>\n",
       "      <th>50%</th>\n",
       "      <td>1.000000</td>\n",
       "      <td>-0.647059</td>\n",
       "      <td>0.165829</td>\n",
       "      <td>0.180328</td>\n",
       "      <td>-0.535354</td>\n",
       "      <td>-0.940898</td>\n",
       "      <td>-0.046200</td>\n",
       "      <td>-0.749787</td>\n",
       "      <td>-0.733333</td>\n",
       "    </tr>\n",
       "    <tr>\n",
       "      <th>75%</th>\n",
       "      <td>1.000000</td>\n",
       "      <td>-0.294118</td>\n",
       "      <td>0.407035</td>\n",
       "      <td>0.311475</td>\n",
       "      <td>-0.353535</td>\n",
       "      <td>-0.703310</td>\n",
       "      <td>0.087929</td>\n",
       "      <td>-0.532878</td>\n",
       "      <td>-0.366667</td>\n",
       "    </tr>\n",
       "    <tr>\n",
       "      <th>max</th>\n",
       "      <td>1.000000</td>\n",
       "      <td>1.000000</td>\n",
       "      <td>1.000000</td>\n",
       "      <td>1.000000</td>\n",
       "      <td>1.000000</td>\n",
       "      <td>1.000000</td>\n",
       "      <td>1.000000</td>\n",
       "      <td>1.000000</td>\n",
       "      <td>1.000000</td>\n",
       "    </tr>\n",
       "  </tbody>\n",
       "</table>\n",
       "</div>"
      ],
      "text/plain": [
       "          Outcome  Pregnancies     Glucose  BloodPressure  SkinThickness  \\\n",
       "count  759.000000   759.000000  759.000000     759.000000     759.000000   \n",
       "mean     0.306983    -0.553902    0.211976       0.130392      -0.584860   \n",
       "std      0.952343     0.393479    0.321448       0.317587       0.322290   \n",
       "min     -1.000000    -1.000000   -1.000000      -1.000000      -1.000000   \n",
       "25%     -1.000000    -0.882353   -0.005025       0.016393      -1.000000   \n",
       "50%      1.000000    -0.647059    0.165829       0.180328      -0.535354   \n",
       "75%      1.000000    -0.294118    0.407035       0.311475      -0.353535   \n",
       "max      1.000000     1.000000    1.000000       1.000000       1.000000   \n",
       "\n",
       "          Insulin         BMI  DiabetesPedigreeFunction         Age  \n",
       "count  759.000000  759.000000                759.000000  759.000000  \n",
       "mean    -0.812335   -0.046738                 -0.664571   -0.599166  \n",
       "std      0.273006    0.235680                  0.282291    0.388652  \n",
       "min     -1.000000   -1.000000                 -1.000000   -1.000000  \n",
       "25%     -1.000000   -0.186289                 -0.858668   -0.900000  \n",
       "50%     -0.940898   -0.046200                 -0.749787   -0.733333  \n",
       "75%     -0.703310    0.087929                 -0.532878   -0.366667  \n",
       "max      1.000000    1.000000                  1.000000    1.000000  "
      ]
     },
     "execution_count": 4,
     "metadata": {},
     "output_type": "execute_result"
    }
   ],
   "source": [
    "df.describe()"
   ]
  },
  {
   "cell_type": "code",
   "execution_count": 14,
   "id": "660bc42d-6497-485e-ab6a-b79b74d151bb",
   "metadata": {
    "tags": []
   },
   "outputs": [
    {
     "data": {
      "image/png": "[encoded data removed]",
      "text/plain": [
       "<Figure size 640x480 with 1 Axes>"
      ]
     },
     "metadata": {},
     "output_type": "display_data"
    }
   ],
   "source": [
    "import matplotlib.pyplot as plt\n",
    "\n",
    "fig, ax = plt.subplots()\n",
    "fig.set_facecolor('white')\n",
    "\n",
    "# stylize\n",
    "plt.style.use('classic')\n",
    "plt.grid(True, linestyle='--', alpha=0.8)\n",
    "\n",
    "ax.boxplot(X)\n",
    "\n",
    "ax.set_facecolor('white')\n",
    "ax.set_xlabel('Feature', fontsize = 13)\n",
    "ax.set_ylabel('Values', fontsize = 13)\n",
    "ax.set_title('')\n",
    "\n",
    "# Show the plot\n",
    "plt.savefig('EDA.png')\n",
    "plt.show()"
   ]
  },
  {
   "cell_type": "markdown",
   "id": "ae7e425a-e056-4dc6-b5f8-83af0e0272cf",
   "metadata": {
    "tags": []
   },
   "source": [
    "### SLP"
   ]
  },
  {
   "cell_type": "markdown",
   "id": "04424de4-c3bc-49a5-854d-cd386c6b022c",
   "metadata": {},
   "source": [
    "#### Below is the unpackaged code for explaining the pipeline"
   ]
  },
  {
   "cell_type": "code",
   "execution_count": 10,
   "id": "54397949-00eb-45ee-b5dd-6ef29f2732c5",
   "metadata": {
    "tags": []
   },
   "outputs": [
    {
     "name": "stdout",
     "output_type": "stream",
     "text": [
      "\n"
     ]
    }
   ],
   "source": [
    "# Create a Perceptron model\n",
    "# Possibly change weight initialization to 1's? What happens when 0's? What happens when small random numbers? Large random numbers?\n",
    "from sklearn.metrics import accuracy_score\n",
    "\n",
    "class Perceptron:\n",
    "    def __init__(self, weights = np.zeros(8), bias = np.random.rand(), learning_rate = 0.01, epochs = 100):\n",
    "        # self.weights = np.random.rand(input_size)\n",
    "        self.weights = weights\n",
    "        self.bias = bias\n",
    "        self.learning_rate = learning_rate\n",
    "        self.epochs = epochs\n",
    "    \n",
    "    def predict(self, X):\n",
    "        z = np.dot(X, self.weights) + self.bias\n",
    "        return np.where(z > 0, 1, -1)\n",
    "    \n",
    "    def fit(self, X, y):\n",
    "        for epoch in range(self.epochs):\n",
    "            for i in range(len(X)):\n",
    "                prediction = self.predict(X[i])\n",
    "                error = y[i] - prediction\n",
    "                self.weights += self.learning_rate * error * X[i]\n",
    "                self.bias += self.learning_rate * error\n",
    "           \n",
    "    def get_params(self, deep=True):\n",
    "        # Return a dictionary of parameter names and their current values\n",
    "        return {'weights': self.weights, 'bias': self.bias, 'learning_rate': self.learning_rate, 'epochs': self.epochs}\n",
    "\n",
    "    def set_params(self, **params):\n",
    "        # Update the parameters of the estimator\n",
    "        if 'weights' in params:\n",
    "            self.weights = params['weights']\n",
    "        if 'bias' in params:\n",
    "            self.bias = params['bias']\n",
    "        if 'learning_rate' in params:\n",
    "            self.learning_rate = params['learning_rate']\n",
    "        if 'epochs' in params:\n",
    "            self.epochs = params['epochs']\n",
    "        return self\n",
    "    \n",
    "    def get_historical(self, X, y):\n",
    "        historical = []\n",
    "        for epoch in range(self.epochs):\n",
    "            for i in range(len(X)):\n",
    "                prediction = self.predict(X[i])\n",
    "                error = y[i] - prediction\n",
    "                self.weights += self.learning_rate * error * X[i]\n",
    "                self.bias += self.learning_rate * error\n",
    "            pred = self.predict(X)\n",
    "            historical.append(accuracy_score(pred, y))\n",
    "        return historical\n",
    "    \n",
    "model = Perceptron(learning_rate = 0.01) # passed\n",
    "model.fit(X, y)  # passed\n",
    "model.predict(X) # passed\n",
    "print()"
   ]
  },
  {
   "cell_type": "markdown",
   "id": "2c8b94f0-ced1-43e4-8ad9-2e15aedd8fad",
   "metadata": {},
   "source": [
    "#### Custom scores"
   ]
  },
  {
   "cell_type": "markdown",
   "id": "ce1d4129-3313-4b6b-95bf-c14fd09dff92",
   "metadata": {},
   "source": [
    "#### If the classes is linearly separable, then the perceptron will converge.\n",
    "\n",
    "To examine this, we will plot the accuracy of the perceptron throughout a large number of epochs and observe the changes. We will do this for several learning rates to ensure we do not encounter poor learning.\n",
    "\n",
    "Poor learning could occur if steps are so small they cannot escape local minima, or if steps are so big they overshoot the global minimum."
   ]
  },
  {
   "cell_type": "code",
   "execution_count": 86,
   "id": "819b032e-f71d-4d0d-bc11-12ea3018dd37",
   "metadata": {
    "tags": []
   },
   "outputs": [],
   "source": [
    "from sklearn.metrics import accuracy_score, precision_score, recall_score, f1_score, confusion_matrix\n",
    "\n",
    "def metric_eval(y_true, y_pred, isPrint=True):\n",
    "    \n",
    "    # y_true = y_true.detach().numpy()\n",
    "    # y_pred = y_pred.detach().numpy()\n",
    "    \n",
    "    precision = precision_score(y_true, y_pred)\n",
    "    recall = recall_score(y_true, y_pred)\n",
    "    f1 = f1_score(y_true, y_pred)\n",
    "    conf_matrix = confusion_matrix(y_true, y_pred)\n",
    "    \n",
    "    if isPrint:\n",
    "\n",
    "        print(f'Precision: {precision:.2f}')\n",
    "        print(f'Recall: {recall:.2f}')\n",
    "        print(f'F1-score: {f1:.2f}')\n",
    "\n",
    "        print('Confusion Matrix:')\n",
    "        print(conf_matrix)\n",
    "    \n",
    "    return precision, recall, f1, conf_matrix"
   ]
  },
  {
   "cell_type": "code",
   "execution_count": 15,
   "id": "8252ad2f-ae6f-40c4-b493-980bd8a79a32",
   "metadata": {
    "tags": []
   },
   "outputs": [
    {
     "data": {
      "image/png": "[encoded data removed]",
      "text/plain": [
       "<Figure size 640x480 with 1 Axes>"
      ]
     },
     "metadata": {},
     "output_type": "display_data"
    }
   ],
   "source": [
    "import matplotlib.pyplot as plt\n",
    "\n",
    "perceptron = Perceptron(weights = np.zeros(8), bias = np.random.rand(), learning_rate = 0.01, epochs = 100)\n",
    "\n",
    "historical_accuracies = perceptron.get_historical(X, y)\n",
    "\n",
    "fig, ax = plt.subplots()\n",
    "\n",
    "# Create a line plot\n",
    "ax.plot([x for x in range(1, 101)], historical_accuracies, marker='o', markersize = 5, linestyle='-', color = 'black', linewidth = 1.5)\n",
    "\n",
    "# stylize\n",
    "plt.style.use('classic')\n",
    "plt.grid(True, linestyle='--', alpha=0.8)\n",
    "\n",
    "# Set the background color of the figure to white (or any other color you prefer)\n",
    "fig.patch.set_facecolor('white')\n",
    "# Set the background color of the axis to transparent\n",
    "ax.set_facecolor('none')\n",
    "\n",
    "# Adding labels and a title\n",
    "plt.xlabel('Epochs')\n",
    "plt.ylabel('Accuracy')\n",
    "plt.title('Overfitting plot')\n",
    "\n",
    "# Show the plot\n",
    "plt.show()"
   ]
  },
  {
   "cell_type": "markdown",
   "id": "dfa8c9cb-3692-413e-b077-5ce3712f0f70",
   "metadata": {},
   "source": [
    "Need to get the axes labelling fixed"
   ]
  },
  {
   "cell_type": "code",
   "execution_count": 16,
   "id": "7fce0870-1810-43a1-84a8-940760bbf5bd",
   "metadata": {
    "tags": []
   },
   "outputs": [
    {
     "data": {
      "image/png": "[encoded data removed]",
      "text/plain": [
       "<Figure size 800x640 with 4 Axes>"
      ]
     },
     "metadata": {},
     "output_type": "display_data"
    }
   ],
   "source": [
    "epochs = 100\n",
    "\n",
    "fig, axs = plt.subplots(2, 2, figsize=(10, 8), facecolor='white')\n",
    "\n",
    "plt.subplots_adjust(wspace=0.3, hspace=0.4)  # Adjust the values as needed\n",
    "\n",
    "\n",
    "plt.subplot(2, 2, 1)\n",
    "lr = 1\n",
    "perceptron = Perceptron(learning_rate = lr)\n",
    "historical_accuracies = perceptron.get_historical(X, y)\n",
    "plt.plot([x for x in range(1, 101)], historical_accuracies, marker='o', markersize = 5, linestyle='-', color = 'black', linewidth = 1.5)  # 'o' for data points, '-' for line style\n",
    "plt.title('learning rate = 1', fontsize = 12)\n",
    "\n",
    "\n",
    "plt.subplot(2, 2, 2)\n",
    "lr = 0.1\n",
    "perceptron = Perceptron(learning_rate = lr)\n",
    "historical_accuracies = perceptron.get_historical(X, y)\n",
    "plt.plot([x for x in range(1, 101)], historical_accuracies, marker='o', markersize = 5, linestyle='-', color = 'black', linewidth = 1.5)  # 'o' for data points, '-' for line style\n",
    "plt.title('learning rate = 0.1', fontsize = 12)\n",
    "\n",
    "plt.subplot(2, 2, 3)\n",
    "lr = 0.01\n",
    "perceptron = Perceptron(learning_rate = lr)\n",
    "historical_accuracies = perceptron.get_historical(X, y)\n",
    "plt.plot([x for x in range(1, 101)], historical_accuracies, marker='o', markersize = 5, linestyle='-', color = 'black', linewidth = 1.5)  # 'o' for data points, '-' for line style\n",
    "plt.title('learning rate = 0.01', fontsize = 12)\n",
    "\n",
    "plt.subplot(2, 2, 4)\n",
    "lr = 0.001\n",
    "perceptron = Perceptron(learning_rate = lr)\n",
    "historical_accuracies = perceptron.get_historical(X, y)\n",
    "plt.plot([x for x in range(1, 101)], historical_accuracies, marker='o', markersize = 5, linestyle='-', color = 'black', linewidth = 1.5)  # 'o' for data points, '-' for line style\n",
    "plt.title('learning rate = 0.001', fontsize = 12)\n",
    "\n",
    "# stylize\n",
    "for ax in axs.flat:\n",
    "    ax.set_xlabel('Epochs', fontsize=11)  # Set X-axis label font size to 10\n",
    "    ax.set_ylabel('Accuracy', fontsize=11)  # Set Y-axis label font size to 10\n",
    "\n",
    "plt.savefig('Overfitting_exhibit.jpg')\n",
    "plt.show()"
   ]
  },
  {
   "cell_type": "markdown",
   "id": "3aade66f-72e1-44d8-b23e-f46575c09aae",
   "metadata": {
    "jp-MarkdownHeadingCollapsed": true,
    "tags": []
   },
   "source": [
    "### Batch Update implementation\n",
    "The one above updates for each individual row. However, what happens if we perform a batch update? Are these equivalent?\n",
    "\n",
    "By setting batch_size to the length of the entire training data set, we take a single update step after each epoch"
   ]
  },
  {
   "cell_type": "code",
   "execution_count": null,
   "id": "34f77345-918a-4d3c-9a0b-d61f2c393fac",
   "metadata": {},
   "outputs": [],
   "source": [
    "# By setting batch_size to the length of the\n",
    "def Fit_Batch_Perceptron(batch_size, perceptron, train_X, train_y, learning_rate=0.01):\n",
    "    \n",
    "    for batch_start in range(0, X.shape[0], batch_size):\n",
    "        X_batch = X[batch_start:batch_start+batch_size]\n",
    "        y_batch = y[batch_start:batch_start+batch_size]\n",
    "        \n",
    "        for i in range(batch_size):   \n",
    "            prediction = perceptron.predict(train_X[i])\n",
    "            error += train_y[i] - prediction # error will always be 2 or -2\n",
    "            \n",
    "        perceptron.weights += learning_rate * error * train_X[i]\n",
    "        perceptron.bias += learning_rate * error\n",
    "        \n",
    "    return"
   ]
  },
  {
   "cell_type": "markdown",
   "id": "495daa3f-54a2-4a4e-b5e3-c76ecc2a06f0",
   "metadata": {
    "jp-MarkdownHeadingCollapsed": true,
    "tags": []
   },
   "source": [
    "### Javen Fit Perceptron\n",
    "\n",
    "Here we implement the algorithm from the slides for the sake of completeness.\n",
    "\n",
    "\n",
    "Analyzing numerically, we see the only difference is that error is propagated as +1 / -1 , as opposed to the original implementation which propagates as +2 / -2."
   ]
  },
  {
   "cell_type": "code",
   "execution_count": null,
   "id": "8ff0c32a-1eb6-4cc4-b885-c596d0f0af38",
   "metadata": {
    "tags": []
   },
   "outputs": [],
   "source": [
    "def Javen_Fit_Perceptron(perceptron, train_X, train_y, learning_rate=0.01):\n",
    "    \"\"\"\n",
    "    if prediction (binary scalar) matches groundtruth label, then they have the same sign\n",
    "    thus result should be +ve\n",
    "    else prediction/groundtruth do not match and thus -ve\n",
    "    \"\"\"\n",
    "    for i in range(len(train_X)):\n",
    "        prediction = perceptron.predict(train_X[i])\n",
    "        \n",
    "        # if the labels do not match, meaning it's incorrect, then record as an erronerous instance\n",
    "        indicator = 1 if train_y[i] * prediction < 0 else 0\n",
    "        \n",
    "        # multiply out the train_y with train_X, which gives the sign of the true label\n",
    "        perceptron.weights += learning_rate * train_y[i] * train_X[i] * indicator\n",
    "        \n",
    "        # This is as follows from ESL Equation (4.43)\n",
    "        perceptron.bias += learning_rate * error\n",
    "    return"
   ]
  },
  {
   "cell_type": "code",
   "execution_count": null,
   "id": "f7db21ef-d1c7-492e-a891-a67cf9a4c6b9",
   "metadata": {
    "tags": []
   },
   "outputs": [],
   "source": [
    "class BatchPerceptron(Perceptron):\n",
    "    def __init__(self, weights = np.zeros(8), bias = np.random.rand(), learning_rate = 0.01, epochs = 100):\n",
    "        super().__init__()\n",
    "        \n",
    "    def batch_fit(self, X, y, batch_size=32):\n",
    "        for epoch in range(epochs):\n",
    "            for i in range(0, len(X), batch_size):\n",
    "                prediction = self.predict(X[i])\n",
    "                error = y[i] - prediction\n",
    "                self.weights += self.learning_rate * error * X[i]\n",
    "                self.bias += self.learning_rate * error"
   ]
  },
  {
   "cell_type": "code",
   "execution_count": null,
   "id": "44ea2301-854d-4c4b-93dd-75d9d1a91b78",
   "metadata": {
    "tags": []
   },
   "outputs": [],
   "source": [
    "# Run test to verify\n",
    "import matplotlib.pyplot as plt\n",
    "\n",
    "historical_accuracies = []\n",
    "\n",
    "epochs = 100; lr = 0.01\n",
    "model = BatchPerceptron(learning_rate = lr, epochs = epochs)\n",
    "\n",
    "# Create a line plot\n",
    "plt.plot([x for x in range(1, 101)], historical_accuracies, marker='o', linestyle='-')  # 'o' for data points, '-' for line style\n",
    "\n",
    "# Adding labels and a title\n",
    "plt.xlabel('Epochs')\n",
    "plt.ylabel('Accuracy')\n",
    "plt.title('Using Lecture Slide update rule')\n",
    "\n",
    "# Show the plot\n",
    "plt.show()"
   ]
  },
  {
   "cell_type": "markdown",
   "id": "032f0b48-f6c6-4eda-b7f1-1dd1c1feb65f",
   "metadata": {
    "tags": []
   },
   "source": [
    "#### Remarks on Javen's update rule\n",
    "\n",
    "It is easy to see that the overall behavior is largely similar. The accuracy range is similar to the original implementation. The amount of fluctation is similar. Most importantly we observe the perceptron is unable to converge to the correct weights."
   ]
  },
  {
   "cell_type": "markdown",
   "id": "c553e4d0-f933-45a1-bf71-833ec77bb4af",
   "metadata": {
    "jp-MarkdownHeadingCollapsed": true,
    "tags": []
   },
   "source": [
    "#### Sklearn perceptron\n",
    "for benchmarking ONLY. (implementation undisclosed)"
   ]
  },
  {
   "cell_type": "code",
   "execution_count": null,
   "id": "3cd8effc-311d-4204-84d6-3b0bd2884bf3",
   "metadata": {
    "tags": []
   },
   "outputs": [],
   "source": [
    "from sklearn.datasets import load_digits\n",
    "from sklearn.linear_model import Perceptron\n",
    "\n",
    "# tol is None because we know accuracy could fall from previous epoch to next epoch\n",
    "clf = Perceptron(max_iter = 100, tol=None, eta0 = 0.1, random_state=0)\n",
    "clf.fit(X, y)\n",
    "clf.score(X, y)"
   ]
  },
  {
   "cell_type": "markdown",
   "id": "e4dc6349-15f3-4e87-8a43-171c9a24bd60",
   "metadata": {},
   "source": [
    "### Train_val_test_split"
   ]
  },
  {
   "cell_type": "code",
   "execution_count": 17,
   "id": "f7211014-a0a0-4e00-9e05-2d5ee3969966",
   "metadata": {},
   "outputs": [
    {
     "data": {
      "text/plain": [
       "((607, 8), (76, 8), (76, 8))"
      ]
     },
     "execution_count": 17,
     "metadata": {},
     "output_type": "execute_result"
    }
   ],
   "source": [
    "from sklearn.model_selection import train_test_split\n",
    "\n",
    "X_train, X_test, y_train, y_test = train_test_split(X, y, test_size=0.2, random_state=1)\n",
    "X_test, X_val, y_test, y_val  = train_test_split(X_test, y_test, test_size=0.5, random_state=1)\n",
    "\n",
    "X_train.shape, X_val.shape, X_test.shape"
   ]
  },
  {
   "cell_type": "code",
   "execution_count": 21,
   "id": "920c7900-eb88-4ce1-9114-a7e0c42ac9e0",
   "metadata": {
    "tags": []
   },
   "outputs": [
    {
     "name": "stdout",
     "output_type": "stream",
     "text": [
      "0.7631578947368421\n"
     ]
    }
   ],
   "source": [
    "class Perceptron2(Perceptron):\n",
    "    def __init__(self, weights = np.zeros(8), bias = np.random.rand(), learning_rate = 0.01, epochs = 100):\n",
    "        super().__init__()\n",
    "    \n",
    "    def best_fit(self, X, y, X_val, y_val):\n",
    "        best_acc = -np.inf\n",
    "        best_weights = self.weights\n",
    "        best_bias = self.bias\n",
    "        \n",
    "        for epoch in range(self.epochs):\n",
    "            for i in range(len(X)):\n",
    "                prediction = self.predict(X[i])\n",
    "                error = y[i] - prediction\n",
    "                self.weights += self.learning_rate * error * X[i]\n",
    "                self.bias += self.learning_rate * error\n",
    "            \n",
    "            y_val_pred = model.predict(X_val)\n",
    "            acc = accuracy_score(y_val_pred, y_val)\n",
    "            \n",
    "            if acc > best_acc:\n",
    "                best_acc = acc\n",
    "                best_weights = self.weights\n",
    "                best_bias = self.bias\n",
    "        \n",
    "        ## use best weights/bias\n",
    "        self.weights = best_weights\n",
    "        self.bias = best_bias\n",
    "  \n",
    "p2 = Perceptron2(weights = np.zeros(8), bias = np.random.rand(), learning_rate = 0.01, epochs = 100)\n",
    "p2.best_fit(X_train, y_train, X_val, y_val)\n",
    "\n",
    "predictions = p2.predict(X_test)\n",
    "test_acc = accuracy_score(predictions, y_test)\n",
    "print(test_acc)"
   ]
  },
  {
   "cell_type": "markdown",
   "id": "75a7f521-c562-4333-a8c9-90b0e04dadac",
   "metadata": {},
   "source": [
    "### K-fold CV\n",
    "\n",
    "A single measurement is not accurate. To ensure fairness, we use 5-fold cross validation which ensures metrics are obtained on all combination splits of the dataset.\n",
    "\n",
    "Since we will perform 5-fold CV on all model/pipelines, we can simply do train-test split."
   ]
  },
  {
   "cell_type": "code",
   "execution_count": 87,
   "id": "780eba8d-8a7f-469b-a2e2-1451c60effdc",
   "metadata": {
    "tags": []
   },
   "outputs": [
    {
     "name": "stdout",
     "output_type": "stream",
     "text": [
      "Test acc for learning rate 1 0.6973684210526315\n",
      "Precision: 0.60\n",
      "Recall: 0.91\n",
      "F1-score: 0.72\n",
      "Confusion Matrix:\n",
      "[[46 40]\n",
      " [ 6 60]]\n",
      "Test acc for learning rate 1 0.6513157894736842\n",
      "Precision: 0.51\n",
      "Recall: 0.83\n",
      "F1-score: 0.63\n",
      "Confusion Matrix:\n",
      "[[54 44]\n",
      " [ 9 45]]\n",
      "Test acc for learning rate 1 0.756578947368421\n",
      "Precision: 0.74\n",
      "Recall: 0.86\n",
      "F1-score: 0.80\n",
      "Confusion Matrix:\n",
      "[[43 25]\n",
      " [12 72]]\n",
      "Test acc for learning rate 1 0.7302631578947368\n",
      "Precision: 0.66\n",
      "Recall: 0.96\n",
      "F1-score: 0.79\n",
      "Confusion Matrix:\n",
      "[[36 38]\n",
      " [ 3 75]]\n",
      "Test acc for learning rate 1 0.7947019867549668\n",
      "Precision: 0.88\n",
      "Recall: 0.82\n",
      "F1-score: 0.85\n",
      "Confusion Matrix:\n",
      "[[35 12]\n",
      " [19 85]]\n"
     ]
    }
   ],
   "source": [
    "from sklearn.model_selection import KFold\n",
    "\n",
    "def CrossValidationTest(X, y, learning_rate, weights = np.zeros(8)):\n",
    "    \n",
    "    # init historical metric arrays\n",
    "    acc_arr, p_arr, r_arr, f1_arr = [], [], [], []\n",
    "    \n",
    "    kf = KFold(n_splits=5)\n",
    "    \n",
    "    for train_index, val_index in kf.split(X):\n",
    "        # print(\"TRAIN:\", train_index, \"VAL:\", val_index)\n",
    "        X_train, X_val = X[train_index], X[val_index]\n",
    "        y_train, y_val = y[train_index], y[val_index]\n",
    "        \n",
    "        p2 = Perceptron2(weights = weights, bias = np.random.rand(), learning_rate = learning_rate, epochs = 100)\n",
    "        p2.best_fit(X_train, y_train, X_val, y_val)\n",
    "        \n",
    "        predictions = p2.predict(X_val)\n",
    "        test_acc = accuracy_score(predictions, y_val)  # again, val <-> test here\n",
    "        print(f'Test acc for learning rate {learning_rate}',test_acc)\n",
    "        p, r, f1, _ = metric_eval(predictions, y_val)\n",
    "        \n",
    "        acc_arr.append(test_acc)\n",
    "        p_arr.append(p)\n",
    "        r_arr.append(r)\n",
    "        f1_arr.append(f1)\n",
    "        \n",
    "    return acc_arr, p_arr, r_arr, f1_arr\n",
    "        \n",
    "acc_arr, p_arr, r_arr, f1_arr = CrossValidationTest(X, y, learning_rate = 1)"
   ]
  },
  {
   "cell_type": "code",
   "execution_count": 71,
   "id": "d70159d5-08b3-4977-aa05-2ec126829efd",
   "metadata": {
    "tags": []
   },
   "outputs": [],
   "source": [
    "results_df = pd.DataFrame(columns=['Acc', 'Precision', 'Recall', 'F1'])"
   ]
  },
  {
   "cell_type": "code",
   "execution_count": 72,
   "id": "d1646a31-85f1-4bf4-b2c6-5a7ec544d87d",
   "metadata": {
    "tags": []
   },
   "outputs": [
    {
     "name": "stdout",
     "output_type": "stream",
     "text": [
      "acc, precision, recall, f1\n",
      "lr = 1 :  [0.6983443708609272, 0.6692109675878422, 0.8519826533739099, 0.7375577976700571]\n"
     ]
    }
   ],
   "source": [
    "acc_arr, p_arr, r_arr, f1_arr = CrossValidationTest(X, y, learning_rate = 1)\n",
    "print('acc, precision, recall, f1')\n",
    "print('lr = 1 : ', [np.mean(x) for x in [acc_arr, p_arr, r_arr, f1_arr] ] )\n",
    "\n",
    "results_df.loc['0'] = [np.mean(x) for x in [acc_arr, p_arr, r_arr, f1_arr] ]"
   ]
  },
  {
   "cell_type": "code",
   "execution_count": 73,
   "id": "7134d44b-ff6f-4479-b397-03573696040c",
   "metadata": {
    "tags": []
   },
   "outputs": [
    {
     "name": "stdout",
     "output_type": "stream",
     "text": [
      "acc, precision, recall, f1\n",
      "lr = 0.1 :  [0.6562652492157546, 0.6164034959493773, 0.8386256404146313, 0.6831701242023259]\n"
     ]
    }
   ],
   "source": [
    "acc_arr, p_arr, r_arr, f1_arr = CrossValidationTest(X, y, learning_rate = 0.1)\n",
    "print('acc, precision, recall, f1')\n",
    "print('lr = 0.1 : ', [np.mean(x) for x in [acc_arr, p_arr, r_arr, f1_arr]])\n",
    "\n",
    "results_df.loc['0.1'] = [np.mean(x) for x in [acc_arr, p_arr, r_arr, f1_arr] ]"
   ]
  },
  {
   "cell_type": "code",
   "execution_count": 74,
   "id": "bb68ccbb-1a8a-4373-9567-2fab5af09fe9",
   "metadata": {
    "tags": []
   },
   "outputs": [
    {
     "name": "stdout",
     "output_type": "stream",
     "text": [
      "acc, precision, recall, f1\n",
      "lr = 0.01 :  [0.7260108051585917, 0.7319084824746368, 0.8351811025643494, 0.772336788614961]\n"
     ]
    }
   ],
   "source": [
    "acc_arr, p_arr, r_arr, f1_arr = CrossValidationTest(X, y, learning_rate = 0.01)\n",
    "print('acc, precision, recall, f1')\n",
    "print('lr = 0.01 : ', [np.mean(x) for x in [acc_arr, p_arr, r_arr, f1_arr]])\n",
    "\n",
    "results_df.loc['0.01'] = [np.mean(x) for x in [acc_arr, p_arr, r_arr, f1_arr] ]"
   ]
  },
  {
   "cell_type": "code",
   "execution_count": 75,
   "id": "8cfa453c-6b91-4196-ba77-2f89f446f702",
   "metadata": {
    "tags": []
   },
   "outputs": [
    {
     "name": "stdout",
     "output_type": "stream",
     "text": [
      "acc, precision, recall, f1\n",
      "lr = 0.001 :  [0.6865458347856397, 0.6024315771237964, 0.8855510410117386, 0.691681637076374]\n"
     ]
    }
   ],
   "source": [
    "acc_arr, p_arr, r_arr, f1_arr = CrossValidationTest(X, y, learning_rate = 0.001)\n",
    "print('acc, precision, recall, f1')\n",
    "print('lr = 0.001 : ', [np.mean(x) for x in [acc_arr, p_arr, r_arr, f1_arr]])\n",
    "\n",
    "results_df.loc['0.001'] = [np.mean(x) for x in [acc_arr, p_arr, r_arr, f1_arr] ]"
   ]
  },
  {
   "cell_type": "code",
   "execution_count": 76,
   "id": "c79fc59c-0841-4a03-892f-5864b890e8a6",
   "metadata": {
    "tags": []
   },
   "outputs": [
    {
     "data": {
      "text/html": [
       "<div>\n",
       "<style scoped>\n",
       "    .dataframe tbody tr th:only-of-type {\n",
       "        vertical-align: middle;\n",
       "    }\n",
       "\n",
       "    .dataframe tbody tr th {\n",
       "        vertical-align: top;\n",
       "    }\n",
       "\n",
       "    .dataframe thead th {\n",
       "        text-align: right;\n",
       "    }\n",
       "</style>\n",
       "<table border=\"1\" class=\"dataframe\">\n",
       "  <thead>\n",
       "    <tr style=\"text-align: right;\">\n",
       "      <th></th>\n",
       "      <th>Acc</th>\n",
       "      <th>Precision</th>\n",
       "      <th>Recall</th>\n",
       "      <th>F1</th>\n",
       "    </tr>\n",
       "  </thead>\n",
       "  <tbody>\n",
       "    <tr>\n",
       "      <th>0</th>\n",
       "      <td>0.698344</td>\n",
       "      <td>0.669211</td>\n",
       "      <td>0.851983</td>\n",
       "      <td>0.737558</td>\n",
       "    </tr>\n",
       "    <tr>\n",
       "      <th>0.1</th>\n",
       "      <td>0.656265</td>\n",
       "      <td>0.616403</td>\n",
       "      <td>0.838626</td>\n",
       "      <td>0.683170</td>\n",
       "    </tr>\n",
       "    <tr>\n",
       "      <th>0.01</th>\n",
       "      <td>0.726011</td>\n",
       "      <td>0.731908</td>\n",
       "      <td>0.835181</td>\n",
       "      <td>0.772337</td>\n",
       "    </tr>\n",
       "    <tr>\n",
       "      <th>0.001</th>\n",
       "      <td>0.686546</td>\n",
       "      <td>0.602432</td>\n",
       "      <td>0.885551</td>\n",
       "      <td>0.691682</td>\n",
       "    </tr>\n",
       "  </tbody>\n",
       "</table>\n",
       "</div>"
      ],
      "text/plain": [
       "            Acc  Precision    Recall        F1\n",
       "0      0.698344   0.669211  0.851983  0.737558\n",
       "0.1    0.656265   0.616403  0.838626  0.683170\n",
       "0.01   0.726011   0.731908  0.835181  0.772337\n",
       "0.001  0.686546   0.602432  0.885551  0.691682"
      ]
     },
     "execution_count": 76,
     "metadata": {},
     "output_type": "execute_result"
    }
   ],
   "source": [
    "results_df"
   ]
  },
  {
   "cell_type": "markdown",
   "id": "f81bf1b1-accc-4738-bbb5-f8cb15680bc2",
   "metadata": {},
   "source": [
    "From the best learning rate of 0.01 (by overall balance of metric performance), we perform additional analysis\n",
    "\n",
    "weight initialization and bias initialization"
   ]
  },
  {
   "cell_type": "markdown",
   "id": "31be365e-3ece-46f1-8ea7-ebf83e47a626",
   "metadata": {
    "tags": []
   },
   "source": [
    "### Weight initialization\n",
    "\n",
    "We will use\n",
    "* zero\n",
    "* random (-0.5, 0.5)\n",
    "* Xavier\n",
    "* He"
   ]
  },
  {
   "cell_type": "code",
   "execution_count": 78,
   "id": "a95df284-169c-437d-86d4-cb619e30996c",
   "metadata": {
    "tags": []
   },
   "outputs": [],
   "source": [
    "weights_df = pd.DataFrame(columns=['Acc', 'Precision', 'Recall', 'F1'])"
   ]
  },
  {
   "cell_type": "code",
   "execution_count": 81,
   "id": "a35340de-1775-43ce-9eb8-b0984058f9a4",
   "metadata": {
    "tags": []
   },
   "outputs": [
    {
     "name": "stdout",
     "output_type": "stream",
     "text": [
      "acc, precision, recall, f1\n",
      "Random Weights :  [0.7233966538863715, 0.686331563695185, 0.8590258049003925, 0.7576508786106901]\n",
      "acc, precision, recall, f1\n",
      "Xavier weights :  [0.679923318229348, 0.6738597089374073, 0.8352519867161016, 0.7096287766852967]\n",
      "acc, precision, recall, f1\n",
      "He weights :  [0.7036162425932382, 0.68731335101263, 0.8468104679873616, 0.746691697480436]\n"
     ]
    }
   ],
   "source": [
    "input_size = 8  # Number of input features\n",
    "output_size = 1  # Number of output units (for binary classification)\n",
    "\n",
    "## random\n",
    "random_weights = np.random.uniform(-0.5, 0.5, input_size)\n",
    "acc_arr, p_arr, r_arr, f1_arr = CrossValidationTest(X, y, learning_rate = 0.01, weights = random_weights)\n",
    "print('acc, precision, recall, f1')\n",
    "print('Random Weights : ', [np.mean(x) for x in [acc_arr, p_arr, r_arr, f1_arr]])\n",
    "\n",
    "## Xavier\n",
    "limit = np.sqrt(6 / (input_size + output_size))\n",
    "xavier_weights = np.random.uniform(-limit, limit, (input_size, output_size))\n",
    "acc_arr, p_arr, r_arr, f1_arr = CrossValidationTest(X, y, learning_rate = 0.01, weights = xavier_weights)\n",
    "print('acc, precision, recall, f1')\n",
    "print('Xavier weights : ', [np.mean(x) for x in [acc_arr, p_arr, r_arr, f1_arr]])\n",
    "\n",
    "## He\n",
    "limit = np.sqrt(2 / input_size)\n",
    "he_weights = np.random.uniform(-limit, limit, (input_size, output_size))\n",
    "acc_arr, p_arr, r_arr, f1_arr = CrossValidationTest(X, y, learning_rate = 0.01, weights = he_weights)\n",
    "print('acc, precision, recall, f1')\n",
    "print('He weights : ', [np.mean(x) for x in [acc_arr, p_arr, r_arr, f1_arr]])"
   ]
  },
  {
   "cell_type": "markdown",
   "id": "8406e46f-da77-4efb-ae5f-2d06b77640bd",
   "metadata": {},
   "source": [
    "We see similar performance by using either random weights or He weights for initialization, meaning it does not affect the original learning ability much. However using Xavier weight initialization is noticeably worse."
   ]
  },
  {
   "cell_type": "code",
   "execution_count": null,
   "id": "4e0bb276-e2df-4b80-a40b-687452c7451e",
   "metadata": {
    "tags": []
   },
   "outputs": [],
   "source": [
    "from sklearn.model_selection import cross_val_score\n",
    "from sklearn.model_selection import KFold\n",
    "\n",
    "kf = KFold(n_splits=5, shuffle=True, random_state=42)"
   ]
  },
  {
   "cell_type": "code",
   "execution_count": null,
   "id": "e2386dde-e1bc-454d-857d-d6df10ec3d69",
   "metadata": {
    "tags": []
   },
   "outputs": [],
   "source": [
    "model = Perceptron(learning_rate = 0.01, epochs = 200)\n",
    "model.fit(X_train, y_train)\n",
    "scores = cross_val_score(model, X_test, y_test, cv=kf, scoring='accuracy')\n",
    "print(scores)\n",
    "print(\"mean\", np.mean(scores))\n",
    "print(\"Std\", np.std(scores))"
   ]
  }
 ],
 "metadata": {
  "kernelspec": {
   "display_name": "Python 3 (ipykernel)",
   "language": "python",
   "name": "python3"
  },
  "language_info": {
   "codemirror_mode": {
    "name": "ipython",
    "version": 3
   },
   "file_extension": ".py",
   "mimetype": "text/x-python",
   "name": "python",
   "nbconvert_exporter": "python",
   "pygments_lexer": "ipython3",
   "version": "3.11.4"
  }
 },
 "nbformat": 4,
 "nbformat_minor": 5
}
